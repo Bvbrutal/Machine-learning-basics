{
 "cells": [
  {
   "cell_type": "markdown",
   "source": [
    "# AdaBoost算法的实现"
   ],
   "metadata": {
    "collapsed": false
   }
  },
  {
   "cell_type": "code",
   "execution_count": 2,
   "metadata": {
    "collapsed": true
   },
   "outputs": [],
   "source": [
    "import numpy as np\n",
    "from sklearn.tree import DecisionTreeClassifier\n",
    "class AdaBoost:\n",
    "    def fit(self,train_x,train_y,clf_num):\n",
    "        self.weak_clfs = []\n",
    "        self.clf_alphas = []\n",
    "        n_train = len(train_x) # train size\n",
    "        w = np.ones(n_train) / n_train # initial sample weights\n",
    "        for i in range(clf_num):\n",
    "            #train the i-th weak classifier\n",
    "            clf = DecisionTreeClassifier(max_depth=3)\n",
    "            clf.fit(train_x, train_y,sample_weight=w)\n",
    "            self.weak_clfs.append(clf)\n",
    "            #calculate the error of i-th weak classifer\n",
    "            pred_train_i = clf.predict(train_x)\n",
    "            error = [int(x) for x in (pred_train_i != train_y)]\n",
    "            #print(\"the %d th weak classifier accuracy:%.3f\"%(i+1,1-sum(error)/n_train))\n",
    "            err_wighted = np.dot(w,error)\n",
    "            #calculate alpha_i\n",
    "            alpha_i = 0.5*np.log((1-err_wighted)/(err_wighted))\n",
    "            self.clf_alphas.append(alpha_i)\n",
    "            #update sample weights\n",
    "            miss = [x if x==1 else -1 for x in error]\n",
    "            w = np.multiply(w,np.exp([float(x)*alpha_i for x in miss]))\n",
    "            w = w / sum(w)\n",
    "    def predict(self,test_x):\n",
    "        n_test = len(test_x)\n",
    "        pred_test = np.zeros(n_test)\n",
    "        for i in range(len(self.weak_clfs)):\n",
    "            pred_test_i = self.weak_clfs[i].predict(test_x)\n",
    "            pred_test_i = [1 if x == 1 else -1 for x in pred_test_i]\n",
    "            pred_test = pred_test + np.multiply(self.clf_alphas[i], pred_test_i)\n",
    "        pred_test = (pred_test > 0) * 1\n",
    "        return pred_test\n"
   ]
  },
  {
   "cell_type": "markdown",
   "source": [
    "# 实践案例一 ：基于AdaBoost的信用卡精准营模型"
   ],
   "metadata": {
    "collapsed": false
   }
  },
  {
   "cell_type": "code",
   "execution_count": 4,
   "outputs": [
    {
     "name": "stdout",
     "output_type": "stream",
     "text": [
      "AdaBoost model accuracy:0.837\n",
      "AdaBoost Sklearn model accuracy:0.810\n",
      "single tree model accuracy:0.833\n"
     ]
    }
   ],
   "source": [
    "#读取数据\n",
    "import pandas as pd\n",
    "data = pd.read_csv(\"Credit_Card_Sale.csv\",encoding='utf-8')\n",
    "data = data.values\n",
    "data_x = data[:,0:-1] # sample feature\n",
    "data_y = data[:,-1] # sample label\n",
    "#划分数据集\n",
    "from sklearn.model_selection import train_test_split\n",
    "X_train, X_test, y_train, y_test = train_test_split(data_x,data_y,test_size=0.3)\n",
    "ada_boost = AdaBoost()\n",
    "ada_boost.fit(X_train, y_train, clf_num=20)\n",
    "test_y_ada_boost = ada_boost.predict(X_test)\n",
    "acc = 0.0\n",
    "for i in range(len(y_test)):\n",
    "    if y_test[i] == test_y_ada_boost[i]:\n",
    "        acc += 1.0\n",
    "print(\"AdaBoost model accuracy:%.3f\"%(acc/len(y_test)))\n",
    "\n",
    "#训练模型，sklearn库中的AdaBoost算法\n",
    "from sklearn.ensemble import AdaBoostClassifier\n",
    "ada_boost_sklearn = AdaBoostClassifier(DecisionTreeClassifier(max_depth=3),n_estimators=20)\n",
    "ada_boost_sklearn.fit(X_train, y_train)\n",
    "y_pred = ada_boost_sklearn.predict(X_test)\n",
    "acc = 0.0\n",
    "for i in range(len(y_test)):\n",
    "    if y_test[i] == y_pred[i]:\n",
    "        acc += 1.0\n",
    "print(\"AdaBoost Sklearn model accuracy:%.3f\"%(acc/len(y_test)))\n",
    "#单个决策树模型预测模型\n",
    "tree_model = DecisionTreeClassifier(max_depth=3)\n",
    "tree_model.fit(X_train, y_train)\n",
    "tree_model_test_y = tree_model.predict(X_test)\n",
    "acc = 0.0\n",
    "for i in range(len(y_test)):\n",
    "    if y_test[i] == tree_model_test_y[i]:\n",
    "        acc += 1.0\n",
    "print(\"single tree model accuracy:%.3f\"%(acc/len(y_test)))"
   ],
   "metadata": {
    "collapsed": false
   }
  },
  {
   "cell_type": "markdown",
   "source": [
    "# 随机森林算法的实现"
   ],
   "metadata": {
    "collapsed": false
   }
  },
  {
   "cell_type": "code",
   "execution_count": 5,
   "outputs": [],
   "source": [
    "from random import randrange\n",
    "from random import randint\n",
    "from sklearn.tree import DecisionTreeClassifier\n",
    "import numpy as np\n",
    "class RandomForest:\n",
    "    #boost-trap\n",
    "    def boosttrap_sampling(self,data_length):\n",
    "        sample_data_index = []\n",
    "        while len(sample_data_index) < data_length:\n",
    "            index = randrange(data_length-1)\n",
    "            sample_data_index.append(index)\n",
    "        return sample_data_index\n",
    "    #randomly select k features\n",
    "    def random_select_k_features(self, feature_length,k):\n",
    "        feature_index = []\n",
    "        while len(feature_index) < k:\n",
    "            index = randint(0, feature_length-1)\n",
    "            if index in feature_index:\n",
    "                index =randint(0, feature_length-1)\n",
    "            else:\n",
    "                feature_index.append(index)\n",
    "        return feature_index\n",
    "    #sampling training data\n",
    "    def get_sampled_data(self,data_x,data_y,k):\n",
    "        data_len = data_x.shape[0]\n",
    "        feat_len = data_x.shape[1]\n",
    "        sample_data_index = self.boosttrap_sampling(data_len)\n",
    "        feature_index = self.random_select_k_features(feat_len,k)\n",
    "        sample_data_x = data_x[sample_data_index]\n",
    "        sample_data_x = sample_data_x[:,feature_index]\n",
    "        sample_data_y = data_y[sample_data_index]\n",
    "        return sample_data_x,sample_data_y,feature_index\n",
    "    #train random forests\n",
    "    def fit(self, train_x, train_y,tree_num, k,tree_depth):\n",
    "        self.feature_list = []\n",
    "        self.trees = []\n",
    "        for i in range(tree_num):\n",
    "            sample_data_x,sample_data_y,feature_index = self.get_sampled_data(\n",
    "                train_x, train_y, k)\n",
    "            self.feature_list.append(feature_index)\n",
    "            clf = DecisionTreeClassifier(criterion='gini',max_depth=tree_depth)\n",
    "            clf.fit(sample_data_x,sample_data_y)\n",
    "            self.trees.append(clf)\n",
    "    #model prediction\n",
    "    def predict(self,test_x):\n",
    "        pred_result = np.zeros((len(test_x),len(self.trees)),dtype=int)\n",
    "        labels = []\n",
    "        for i in range(len(self.trees)):\n",
    "            test_x_sub = test_x[:,self.feature_list[i]]\n",
    "            pred_y = self.trees[i].predict(test_x_sub)\n",
    "            pred_result[:,i] = pred_y\n",
    "        for i in range(len(test_x)):\n",
    "            label = self.majorityCount(pred_result[i,:])\n",
    "            labels.append(label)\n",
    "        return pred_result,labels\n",
    "    #get major class\n",
    "    def majorityCount(self,votes):\n",
    "        class_list = []\n",
    "        for c in votes:\n",
    "            if c not in class_list:\n",
    "                class_list.append(c)\n",
    "        count = []\n",
    "        for c in class_list:\n",
    "            num = 0\n",
    "            for x in votes:\n",
    "                if x == c:\n",
    "                    num += 1\n",
    "            count.append(num)\n",
    "        max_count = 0\n",
    "        max_index = 0\n",
    "        for i in range(len(count)):\n",
    "            if count[i] > max_count:\n",
    "                max_count =count[i]\n",
    "                max_index = i\n",
    "        return class_list[max_index]"
   ],
   "metadata": {
    "collapsed": false
   }
  },
  {
   "cell_type": "markdown",
   "source": [
    "# 实践案例二：基于随机森林的信用卡精准营模型"
   ],
   "metadata": {
    "collapsed": false
   }
  },
  {
   "cell_type": "code",
   "execution_count": 7,
   "outputs": [
    {
     "name": "stdout",
     "output_type": "stream",
     "text": [
      "RF model accuracy:0.810\n",
      "RF Sklearn model accuracy:0.810\n",
      "single tree model accuracy:0.810\n"
     ]
    }
   ],
   "source": [
    "#读取数据集\n",
    "import pandas as pd\n",
    "data = pd.read_csv(\"Credit_Card_Sale.csv\",encoding='utf-8')\n",
    "data = data.values\n",
    "data_x = data[:,0:-1] # sample feature\n",
    "data_y = data[:,-1] # sample label\n",
    "#划分训练集和测试集\n",
    "from sklearn.model_selection import train_test_split\n",
    "X_train, X_test, y_train, y_test = train_test_split(data_x,data_y,test_size=0.3)\n",
    "rf_model = RandomForest()\n",
    "rf_model.fit(X_train, y_train, 50,4,3)\n",
    "_,test_y_rf = rf_model.predict(X_test)\n",
    "acc = 0.0\n",
    "for i in range(len(y_test)):\n",
    "    if y_test[i] == test_y_rf[i]:\n",
    "        acc += 1.0\n",
    "print(\"RF model accuracy:%.3f\"%(acc/len(y_test)))\n",
    "\n",
    "#用sklearn库中AdaBoost算法和训练数据，训练模型\n",
    "from sklearn.ensemble import RandomForestClassifier\n",
    "rf_sklearn = RandomForestClassifier(max_depth=3,n_estimators=50)\n",
    "rf_sklearn.fit(X_train, y_train)\n",
    "y_pred = rf_sklearn.predict(X_test)\n",
    "acc = 0.0\n",
    "for i in range(len(y_test)):\n",
    "    if y_test[i] == y_pred[i]:\n",
    "        acc += 1.0\n",
    "print(\"RF Sklearn model accuracy:%.3f\"%(acc/len(y_test)))\n",
    "\n",
    "#单个决策树模型-预测模型\n",
    "tree_model = DecisionTreeClassifier(max_depth=3)\n",
    "tree_model.fit(X_train, y_train)\n",
    "tree_model_test_y = tree_model.predict(X_test)\n",
    "acc = 0.0\n",
    "for i in range(len(y_test)):\n",
    "    if y_test[i] == tree_model_test_y[i]:\n",
    "        acc += 1.0\n",
    "print(\"single tree model accuracy:%.3f\"%(acc/len(y_test)))\n"
   ],
   "metadata": {
    "collapsed": false
   }
  },
  {
   "cell_type": "code",
   "execution_count": null,
   "outputs": [],
   "source": [],
   "metadata": {
    "collapsed": false
   }
  }
 ],
 "metadata": {
  "kernelspec": {
   "display_name": "Python 3",
   "language": "python",
   "name": "python3"
  },
  "language_info": {
   "codemirror_mode": {
    "name": "ipython",
    "version": 2
   },
   "file_extension": ".py",
   "mimetype": "text/x-python",
   "name": "python",
   "nbconvert_exporter": "python",
   "pygments_lexer": "ipython2",
   "version": "2.7.6"
  }
 },
 "nbformat": 4,
 "nbformat_minor": 0
}
