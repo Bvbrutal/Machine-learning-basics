{
 "cells": [
  {
   "cell_type": "code",
   "execution_count": null,
   "outputs": [],
   "source": [
    "import numpy as np\n",
    "import struct\n",
    "import os\n",
    "#fucntion to load MNIST data\n",
    "def load_mnist_data(path,kind='train'):\n",
    "    label_path = os.path.join(path, '%s-labels.idx1-ubyte'%kind)\n",
    "    image_path = os.path.join(path, '%s-images.idx3-ubyte'%kind)\n",
    "    with open(label_path,'rb') as lbpath: # open label file\n",
    "        struct.unpack('>II', lbpath.read(8))\n",
    "        labels = np.fromfile(lbpath,dtype=np.uint8)\n",
    "    with open(image_path,'rb') as imgpath:# open image file\n",
    "        struct.unpack('>IIII', imgpath.read(16))\n",
    "        #transform image into 784-dimensional feature vector\n",
    "        images = np.fromfile(imgpath,dtype=np.uint8).reshape(len(labels),784)\n",
    "    return images,labels\n",
    "\n",
    "#定义图片显示函数\n",
    "import matplotlib.pyplot as plt\n",
    "def show_image(image):\n",
    "    plt.figure()\n",
    "    img = image.reshape(28,28)\n",
    "    plt.imshow(img, 'gray')\n",
    "    plt.show()\n",
    "#数据读取和预处理\n",
    "from sklearn.preprocessing import StandardScaler\n",
    "path = 'MNIST'\n",
    "train_images, train_labels = load_mnist_data(path,kind='train')\n",
    "# show_image(train_images)\n",
    "train_y = np.zeros((len(train_labels),10))\n",
    "for i in range(len(train_labels)):\n",
    "    train_y[i,train_labels[i]]=1\n",
    "scaler = StandardScaler()\n",
    "train_x = scaler.fit_transform(train_images)\n",
    "test_images, test_labels = load_mnist_data(path,kind='t10k')\n",
    "# show_image(test_images)\n",
    "test_y = np.zeros((len(test_labels),10))\n",
    "for i in range(len(test_labels)):\n",
    "    test_y[i,test_labels[i]]=1\n",
    "test_x = scaler.fit_transform(test_images)"
   ],
   "metadata": {
    "collapsed": false
   }
  },
  {
   "cell_type": "code",
   "execution_count": null,
   "outputs": [],
   "source": [
    "show_image(train_images[0])\n",
    "show_image(train_images[1])\n",
    "show_image(train_images[2])\n",
    "show_image(train_images[3])"
   ],
   "metadata": {
    "collapsed": false
   }
  },
  {
   "cell_type": "code",
   "execution_count": null,
   "outputs": [],
   "source": [
    "from sklearn.neural_network import MLPClassifier\n",
    "model = MLPClassifier(hidden_layer_sizes=(100),\n",
    "                      solver='sgd',batch_size=100,learning_rate='constant',\n",
    "                      learning_rate_init=0.01,max_iter=3000)\n",
    "model.fit(train_x, train_y)\n",
    "labels = model.predict(test_x)\n",
    "acc = 0.0\n",
    "for k in range(len(labels)):\n",
    "    index = 0\n",
    "    for j in range(10):\n",
    "        if labels[k,j]==1:\n",
    "            index = j\n",
    "            break\n",
    "    if test_y[k,index]==1.0:\n",
    "        acc += 1.0\n",
    "acc=acc/len(labels)\n",
    "print(\"test accuracy:%.3f\"%(acc))"
   ],
   "metadata": {
    "collapsed": false
   }
  },
  {
   "cell_type": "code",
   "execution_count": null,
   "outputs": [],
   "source": [],
   "metadata": {
    "collapsed": false
   }
  },
  {
   "cell_type": "code",
   "execution_count": null,
   "outputs": [],
   "source": [],
   "metadata": {
    "collapsed": false
   }
  },
  {
   "cell_type": "code",
   "execution_count": null,
   "outputs": [],
   "source": [],
   "metadata": {
    "collapsed": false
   }
  },
  {
   "cell_type": "code",
   "execution_count": null,
   "outputs": [],
   "source": [],
   "metadata": {
    "collapsed": false
   }
  },
  {
   "cell_type": "code",
   "execution_count": 1,
   "outputs": [],
   "source": [
    "import numpy as np\n",
    "import struct\n",
    "import os\n",
    "\n",
    "# 加载MNIST数据的函数\n",
    "def load_mnist_data(path, kind='train'):\n",
    "    label_path = os.path.join(path, '%s-labels.idx1-ubyte' % kind)\n",
    "    image_path = os.path.join(path, '%s-images.idx3-ubyte' % kind)\n",
    "\n",
    "    with open(label_path, 'rb') as lbpath:  # 打开标签文件\n",
    "        struct.unpack('>II', lbpath.read(8))  # 读取文件头\n",
    "        labels = np.fromfile(lbpath, dtype=np.uint8)  # 读取标签数据\n",
    "\n",
    "    with open(image_path, 'rb') as imgpath:  # 打开图像文件\n",
    "        struct.unpack('>IIII', imgpath.read(16))  # 读取文件头\n",
    "        # 将图像转换为784维的特征向量\n",
    "        images = np.fromfile(imgpath, dtype=np.uint8).reshape(len(labels), 784)\n",
    "\n",
    "    return images, labels\n",
    "\n",
    "# 定义显示图像的函数\n",
    "import matplotlib.pyplot as plt\n",
    "def show_image(image):\n",
    "    plt.figure()\n",
    "    img = image.reshape(28, 28)\n",
    "    plt.imshow(img, 'gray')\n",
    "    plt.show()\n",
    "\n",
    "# 数据读取和预处理\n",
    "from sklearn.preprocessing import StandardScaler\n",
    "path = 'MNIST'\n",
    "train_images, train_labels = load_mnist_data(path, kind='train')\n",
    "\n",
    "# 转换训练标签为独热编码\n",
    "train_y = np.zeros((len(train_labels), 10))\n",
    "for i in range(len(train_labels)):\n",
    "    train_y[i, train_labels[i]] = 1\n",
    "\n",
    "# 标准化训练图像数据\n",
    "scaler = StandardScaler()\n",
    "train_x = scaler.fit_transform(train_images)\n",
    "\n",
    "# 加载和处理测试数据\n",
    "test_images, test_labels = load_mnist_data(path, kind='t10k')\n",
    "\n",
    "# 转换测试标签为独热编码\n",
    "test_y = np.zeros((len(test_labels), 10))\n",
    "for i in range(len(test_labels)):\n",
    "    test_y[i, test_labels[i]] = 1\n",
    "\n",
    "# 标准化测试图像数据\n",
    "test_x = scaler.fit_transform(test_images)\n"
   ],
   "metadata": {
    "collapsed": false
   }
  },
  {
   "cell_type": "code",
   "execution_count": 2,
   "outputs": [
    {
     "data": {
      "text/plain": "<Figure size 640x480 with 1 Axes>",
      "image/png": "[encoded data removed]"
     },
     "metadata": {},
     "output_type": "display_data"
    },
    {
     "data": {
      "text/plain": "<Figure size 640x480 with 1 Axes>",
      "image/png": "[encoded data removed]"
     },
     "metadata": {},
     "output_type": "display_data"
    },
    {
     "data": {
      "text/plain": "<Figure size 640x480 with 1 Axes>",
      "image/png": "[encoded data removed]"
     },
     "metadata": {},
     "output_type": "display_data"
    },
    {
     "data": {
      "text/plain": "<Figure size 640x480 with 1 Axes>",
      "image/png": "[encoded data removed]"
     },
     "metadata": {},
     "output_type": "display_data"
    }
   ],
   "source": [
    "show_image(train_images[0])\n",
    "show_image(train_images[1])\n",
    "show_image(train_images[2])\n",
    "show_image(train_images[3])"
   ],
   "metadata": {
    "collapsed": false
   }
  },
  {
   "cell_type": "code",
   "execution_count": 3,
   "outputs": [
    {
     "name": "stdout",
     "output_type": "stream",
     "text": [
      "test accuracy: 0.961\n"
     ]
    }
   ],
   "source": [
    "from sklearn.neural_network import MLPClassifier\n",
    "\n",
    "# 创建MLP模型\n",
    "model = MLPClassifier(\n",
    "    hidden_layer_sizes=(100),  # 设置100个神经元的隐藏层\n",
    "    solver='sgd',              # 使用随机梯度下降作为优化器\n",
    "    batch_size=100,            # 批处理大小设置为100\n",
    "    learning_rate='constant',  # 使用固定学习率\n",
    "    learning_rate_init=0.01,   # 初始学习率设置为0.01\n",
    "    max_iter=3000              # 设置最大迭代次数为3000\n",
    ")\n",
    "\n",
    "# 训练模型\n",
    "model.fit(train_x, train_y)  # 使用训练数据训练模型\n",
    "\n",
    "# 预测测试集\n",
    "labels = model.predict(test_x)  # 对测试集进行预测\n",
    "\n",
    "# 计算准确率\n",
    "acc = 0.0\n",
    "for k in range(len(labels)):\n",
    "    index = 0\n",
    "    # 寻找预测的独热编码中的1所在的位置\n",
    "    for j in range(10):\n",
    "        if labels[k, j] == 1:\n",
    "            index = j\n",
    "            break\n",
    "    # 如果预测的位置和真实标签相同，计数加1\n",
    "    if test_y[k, index] == 1.0:\n",
    "        acc += 1.0\n",
    "\n",
    "# 计算总体准确率\n",
    "acc = acc / len(labels)\n",
    "print(\"test accuracy: %.3f\" % (acc))  # 打印测试准确率\n"
   ],
   "metadata": {
    "collapsed": false
   }
  },
  {
   "cell_type": "code",
   "execution_count": 22,
   "outputs": [
    {
     "name": "stdout",
     "output_type": "stream",
     "text": [
      "预测的数字: [0 1 1 0 0 0 0 0 0 0]\n"
     ]
    }
   ],
   "source": [
    "# import tkinter as tk\n",
    "# from tkinter import Canvas\n",
    "# import numpy as np\n",
    "# from PIL import Image, ImageDraw\n",
    "# from PIL import ImageGrab\n",
    "# # 界面和绘图逻辑\n",
    "# class DigitRecognizerApp:\n",
    "#     def __init__(self, master, model):\n",
    "#         self.master = master\n",
    "#         self.model = model\n",
    "#         self.canvas = Canvas(master, width=280, height=280, bg='white')\n",
    "#         self.canvas.pack()\n",
    "#         self.button_predict = tk.Button(master, text=\"识别\", command=self.predict)\n",
    "#         self.button_predict.pack()\n",
    "#         self.draw = ImageDraw.Draw(Image.new(\"RGB\", (280, 280)))\n",
    "#         self.canvas.bind(\"<B1-Motion>\", self.paint)\n",
    "#\n",
    "#     def paint(self, event):\n",
    "#         x1, y1 = (event.x - 10), (event.y - 10)\n",
    "#         x2, y2 = (event.x + 10), (event.y + 10)\n",
    "#         self.canvas.create_oval(x1, y1, x2, y2, fill='black', width=10)\n",
    "#         self.draw.ellipse([x1, y1, x2, y2], fill='black')\n",
    "#\n",
    "#     def predict(self):\n",
    "#         x = self.master.winfo_rootx() + self.canvas.winfo_x()\n",
    "#         y = self.master.winfo_rooty() + self.canvas.winfo_y()\n",
    "#         x1 = x + self.canvas.winfo_width()\n",
    "#         y1 = y + self.canvas.winfo_height()\n",
    "#         image = ImageGrab.grab().crop((x, y, x1, y1))\n",
    "#\n",
    "#         image = image.convert('L')  # 转换为灰度图像\n",
    "#         image = image.resize((28, 28), Image.Resampling.LANCZOS)\n",
    "#         image = np.array(image)\n",
    "#         image = image.reshape(1, 784)\n",
    "#         image = scaler.transform(image)  # 使用之前的Scaler对象\n",
    "#         prediction = self.model.predict(image)\n",
    "#         print(\"预测的数字:\", prediction[0])\n",
    "#\n",
    "#\n",
    "# # 创建Tkinter窗口\n",
    "# root = tk.Tk()\n",
    "# app = DigitRecognizerApp(root, model)\n",
    "# root.mainloop()\n"
   ],
   "metadata": {
    "collapsed": false
   }
  },
  {
   "cell_type": "code",
   "execution_count": null,
   "outputs": [],
   "source": [],
   "metadata": {
    "collapsed": false,
    "pycharm": {
     "is_executing": true
    }
   }
  },
  {
   "cell_type": "code",
   "execution_count": 23,
   "outputs": [
    {
     "name": "stdout",
     "output_type": "stream",
     "text": [
      "预测的数字: 1\n"
     ]
    }
   ],
   "source": [
    "import tkinter as tk\n",
    "from tkinter import Canvas\n",
    "import numpy as np\n",
    "from PIL import Image, ImageGrab\n",
    "\n",
    "class DigitRecognizerApp:\n",
    "    def __init__(self, master, model, scaler):\n",
    "        self.master = master\n",
    "        self.model = model\n",
    "        self.scaler = scaler\n",
    "        self.canvas = Canvas(master, width=280, height=280, bg='white')\n",
    "        self.canvas.pack()\n",
    "        self.button_predict = tk.Button(master, text=\"识别\", command=self.predict)\n",
    "        self.button_predict.pack()\n",
    "        self.canvas.bind(\"<B1-Motion>\", self.paint)\n",
    "\n",
    "    def paint(self, event):\n",
    "        x1, y1 = (event.x - 10), (event.y - 10)\n",
    "        x2, y2 = (event.x + 10), (event.y + 10)\n",
    "        self.canvas.create_oval(x1, y1, x2, y2, fill='black', width=10)\n",
    "\n",
    "    def predict(self):\n",
    "        x = self.master.winfo_rootx() + self.canvas.winfo_x()\n",
    "        y = self.master.winfo_rooty() + self.canvas.winfo_y()\n",
    "        x1 = x + self.canvas.winfo_width()\n",
    "        y1 = y + self.canvas.winfo_height()\n",
    "        image = ImageGrab.grab().crop((x, y, x1, y1))\n",
    "\n",
    "        # 处理图像以适应模型输入\n",
    "        image = image.convert('L')  # 转换为灰度图像\n",
    "        image = image.resize((28, 28), Image.Resampling.LANCZOS)\n",
    "        image = np.array(image)\n",
    "        image = image.reshape(1, 784)\n",
    "        image = self.scaler.transform(image)  # 使用之前的Scaler对象进行标准化\n",
    "\n",
    "        # 使用模型进行预测\n",
    "        prediction = self.model.predict(image)\n",
    "        predicted_digit = np.argmax(prediction)  # 获取预测结果中概率最高的数字\n",
    "        print(\"预测的数字:\", predicted_digit)\n",
    "\n",
    "# 创建Tkinter窗口并运行应用程序\n",
    "root = tk.Tk()\n",
    "app = DigitRecognizerApp(root, model, scaler)  # 确保提供训练好的模型和Scaler对象\n",
    "root.mainloop()\n",
    "\n"
   ],
   "metadata": {
    "collapsed": false
   }
  },
  {
   "cell_type": "code",
   "execution_count": null,
   "outputs": [],
   "source": [],
   "metadata": {
    "collapsed": false,
    "pycharm": {
     "is_executing": true
    }
   }
  },
  {
   "cell_type": "code",
   "execution_count": 17,
   "outputs": [],
   "source": [],
   "metadata": {
    "collapsed": false
   }
  }
 ],
 "metadata": {
  "kernelspec": {
   "display_name": "Python 3",
   "language": "python",
   "name": "python3"
  },
  "language_info": {
   "codemirror_mode": {
    "name": "ipython",
    "version": 2
   },
   "file_extension": ".py",
   "mimetype": "text/x-python",
   "name": "python",
   "nbconvert_exporter": "python",
   "pygments_lexer": "ipython2",
   "version": "2.7.6"
  }
 },
 "nbformat": 4,
 "nbformat_minor": 0
}
